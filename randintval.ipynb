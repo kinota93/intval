{
 "cells": [
  {
   "cell_type": "code",
   "execution_count": 1,
   "metadata": {},
   "outputs": [],
   "source": [
    "import pandas as pd\n",
    "import numpy as np\n",
    "import matplotlib.pyplot as plt"
   ]
  },
  {
   "cell_type": "code",
   "execution_count": 2,
   "metadata": {},
   "outputs": [],
   "source": [
    "# Simulation of arrival times and service deliveries for a multiserver queue:\n",
    "\n",
    "from heapq import heapify, heapreplace\n",
    "from random import expovariate, gauss\n",
    "from statistics import mean, quantiles\n",
    "\n",
    "average_arrival_interval = 5.6\n",
    "average_service_time = 15.0\n",
    "stdev_service_time = 3.5\n",
    "num_servers = 3\n",
    "\n",
    "waits = []\n",
    "arrival_time = 0.0\n",
    "servers = [0.0] * num_servers  # time when each server becomes available\n",
    "heapify(servers)\n",
    "\n",
    "N = 50\n",
    "\n",
    "for i in range(N):\n",
    "    arrival_time += expovariate(1.0 / average_arrival_interval)\n",
    "    next_server_available = servers[0]\n",
    "    wait = max(0.0, next_server_available - arrival_time)\n",
    "    waits.append(wait)\n",
    "    service_duration = max(0.0, gauss(average_service_time, stdev_service_time))\n",
    "    service_completed = arrival_time + wait + service_duration\n",
    "    heapreplace(servers, service_completed)\n",
    "\n",
    "    # print(f\"({arrival_time}, {wait+service_duration})\")\n"
   ]
  },
  {
   "cell_type": "code",
   "execution_count": null,
   "metadata": {},
   "outputs": [],
   "source": []
  }
 ],
 "metadata": {
  "kernelspec": {
   "display_name": "Python 3",
   "language": "python",
   "name": "python3"
  },
  "language_info": {
   "codemirror_mode": {
    "name": "ipython",
    "version": 3
   },
   "file_extension": ".py",
   "mimetype": "text/x-python",
   "name": "python",
   "nbconvert_exporter": "python",
   "pygments_lexer": "ipython3",
   "version": "3.8.5"
  }
 },
 "nbformat": 4,
 "nbformat_minor": 4
}
