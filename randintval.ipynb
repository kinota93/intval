{
 "cells": [
  {
   "cell_type": "code",
   "execution_count": 1,
   "metadata": {},
   "outputs": [],
   "source": [
    "import pandas as pd\n",
    "import numpy as np\n",
    "import matplotlib.pyplot as plt"
   ]
  },
  {
   "cell_type": "code",
   "execution_count": 11,
   "metadata": {},
   "outputs": [
    {
     "name": "stdout",
     "output_type": "stream",
     "text": [
      "(2.1607558560547755, 14.030534345818666)\n",
      "(4.05252523425609, 20.615736112262688)\n",
      "(4.578280594815784, 15.004900262179527)\n",
      "(21.765031088669556, 15.941922527916015)\n",
      "(32.29735396859883, 22.171718737128394)\n",
      "(39.27896092273751, 10.842660866861056)\n",
      "(40.54038836978983, 11.416863968026139)\n",
      "(40.71158718831007, 22.895274473824635)\n",
      "(40.935357406415974, 23.14667129196288)\n",
      "(44.581038186041994, 25.59774201206875)\n",
      "(46.09789370939338, 39.593617468725334)\n",
      "(46.72323218851642, 26.11663695669079)\n",
      "(47.72051302684283, 33.45300623740305)\n",
      "(49.36166471262448, 40.545023582241406)\n",
      "(67.18783027895512, 27.549851895412285)\n",
      "(82.05381540350534, 21.222936991823644)\n",
      "(84.85276946480545, 19.80963373482168)\n",
      "(85.15201184331768, 28.83391336974296)\n",
      "(86.03564768463, 31.611107478621577)\n",
      "(95.18224608476665, 25.96885075532437)\n",
      "(97.49570694609595, 33.2339260360076)\n",
      "(98.71312763401086, 31.457828346544666)\n",
      "(99.751804542325, 33.86261110858337)\n",
      "(101.32260528550435, 39.40499728640219)\n",
      "(102.08686743629812, 48.788645657303526)\n",
      "(107.9743436054342, 40.52514841758217)\n",
      "(112.64795054374599, 46.530990264016864)\n",
      "(112.80768653109163, 47.52953050432572)\n",
      "(120.55585359166271, 42.55623359371502)\n",
      "(123.07422897423665, 50.337608350310745)\n",
      "(124.69751769677652, 53.700772607789716)\n",
      "(128.67490607184416, 54.250231384340395)\n",
      "(134.3194855705547, 60.11944313127785)\n",
      "(137.28281945849815, 54.9091480332906)\n",
      "(137.85002828424467, 54.036255712361964)\n",
      "(153.75441178763077, 55.06124091550502)\n",
      "(156.23863092429482, 50.15782944434157)\n",
      "(160.47763912134383, 52.1607432960615)\n",
      "(178.67292236488717, 43.40832387665791)\n",
      "(179.1051432345659, 47.3990429967141)\n",
      "(182.70826437140718, 48.2599502770631)\n",
      "(184.8459994094934, 52.69660529040006)\n",
      "(187.21882519041995, 54.86933558735584)\n",
      "(189.14781007874245, 58.24571093919474)\n",
      "(197.73387886538308, 54.573575583352586)\n",
      "(203.34086966732318, 56.1331083644163)\n",
      "(204.18729479456601, 57.06538274154469)\n",
      "(223.94118925554926, 46.55944629850134)\n",
      "(238.82574078927968, 33.384219088008045)\n",
      "(242.69602438481715, 31.699596406591276)\n"
     ]
    }
   ],
   "source": [
    "# Simulation of arrival times and service deliveries for a multiserver queue:\n",
    "\n",
    "from heapq import heapify, heapreplace\n",
    "from random import expovariate, gauss\n",
    "from statistics import mean, quantiles\n",
    "\n",
    "average_arrival_interval = 5.6\n",
    "average_service_time = 15.0\n",
    "stdev_service_time = 3.5\n",
    "num_servers = 3\n",
    "\n",
    "waits = []\n",
    "arrival_time = 0.0\n",
    "servers = [0.0] * num_servers  # time when each server becomes available\n",
    "heapify(servers)\n",
    "\n",
    "N = 50\n",
    "\n",
    "for i in range(N):\n",
    "    arrival_time += expovariate(1.0 / average_arrival_interval)\n",
    "    next_server_available = servers[0]\n",
    "    wait = max(0.0, next_server_available - arrival_time)\n",
    "    waits.append(wait)\n",
    "    service_duration = max(0.0, gauss(average_service_time, stdev_service_time))\n",
    "    service_completed = arrival_time + wait + service_duration\n",
    "    heapreplace(servers, service_completed)\n",
    "\n",
    "    print(f\"({arrival_time}, {wait+service_duration})\")\n"
   ]
  },
  {
   "cell_type": "code",
   "execution_count": null,
   "metadata": {},
   "outputs": [],
   "source": []
  }
 ],
 "metadata": {
  "kernelspec": {
   "display_name": "Python 3",
   "language": "python",
   "name": "python3"
  },
  "language_info": {
   "codemirror_mode": {
    "name": "ipython",
    "version": 3
   },
   "file_extension": ".py",
   "mimetype": "text/x-python",
   "name": "python",
   "nbconvert_exporter": "python",
   "pygments_lexer": "ipython3",
   "version": "3.8.5"
  }
 },
 "nbformat": 4,
 "nbformat_minor": 4
}
